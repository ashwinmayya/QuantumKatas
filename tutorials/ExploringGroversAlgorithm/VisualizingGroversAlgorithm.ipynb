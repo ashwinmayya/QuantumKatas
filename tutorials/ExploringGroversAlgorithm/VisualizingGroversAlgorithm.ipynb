{
 "cells": [
  {
   "cell_type": "markdown",
   "metadata": {},
   "source": [
    "# Visualizing Grover's Search Algorithm"
   ]
  },
  {
   "cell_type": "markdown",
   "metadata": {},
   "source": [
    "This is a companion notebook to the [Exploring Grover's Search Algorithm](./ExploringGroversAlgorithmTutorial.ipynb) tutorial. It helps you explore the algorithm by plotting several graphs that are a lot easier to build using Python than in a purely Q# notebook.\n",
    "\n",
    "> <font color=\"red\">This notebook contains some heavy computations, and might take a fair amount of time to execute. \n",
    "    Precomputed cell outputs are included - you might want to study these before you opt to re-run the cells.</font>"
   ]
  },
  {
   "cell_type": "markdown",
   "metadata": {},
   "source": [
    "## Running Q# code from Python\n",
    "\n",
    "To start with, execute this cell using Ctrl+Enter (or ⌘+Enter on a Mac). This is necessary to prepare the environment and import the libraries and operations we'll use later in the tutorial."
   ]
  },
  {
   "cell_type": "code",
   "execution_count": 4,
   "metadata": {},
   "outputs": [],
   "source": [
    "import qsharp\n",
    "import Quantum.Kata.ExploringGroversAlgorithm as Grover\n",
    "\n",
    "import warnings\n",
    "warnings.simplefilter('ignore')\n",
    "\n",
    "%matplotlib inline\n",
    "from matplotlib import pyplot"
   ]
  },
  {
   "cell_type": "markdown",
   "metadata": {},
   "source": [
    "`GroversAlgorithm_SuccessProbability` is a pre-written Q# operation similar to the one you've implemented in the [exercise 5](./ExploringGroversAlgorithmTutorial.ipynb#Exercise-5:-Calculate-the-success-probability-of-Grover's-algorithm): \n",
    "given the instance of a SAT problem and the number of iterations, it runs Grover's search on that instance for that number of iterations and calculates the probability of its success.\n",
    "\n",
    "You can call this operation from Python as follows (note that the only change in the syntax used for describing instances of SAT problems is that in Q# the constants `true` and `false` are spelled in lowercase, and in Python the first letter is capitalized):"
   ]
  },
  {
   "cell_type": "code",
   "execution_count": 5,
   "metadata": {
    "scrolled": true
   },
   "outputs": [
    {
     "name": "stdout",
     "output_type": "stream",
     "text": [
      "Solving SAT problem (x0 ∨ x1) ∧ (¬x0 ∨ ¬x1) ∧ (x1 ∨ x2) ∧ (¬x1 ∨ ¬x2)...\n"
     ]
    },
    {
     "name": "stderr",
     "output_type": "stream",
     "text": [
      "Could not load file or assembly 'Microsoft.Quantum.Standard, Version=0.11.2004.2825, Culture=neutral, PublicKeyToken=40866b40fd95c7f5'. The system cannot find the file specified.\r\n"
     ]
    },
    {
     "ename": "TypeError",
     "evalue": "unsupported operand type(s) for *: 'NoneType' and 'int'",
     "output_type": "error",
     "traceback": [
      "\u001b[1;31m---------------------------------------------------------------------------\u001b[0m",
      "\u001b[1;31mTypeError\u001b[0m                                 Traceback (most recent call last)",
      "\u001b[1;32m<ipython-input-5-c17209d9f9f0>\u001b[0m in \u001b[0;36m<module>\u001b[1;34m\u001b[0m\n\u001b[0;32m      7\u001b[0m \u001b[1;31m# Simulate the algorithm and print the results\u001b[0m\u001b[1;33m\u001b[0m\u001b[1;33m\u001b[0m\u001b[1;33m\u001b[0m\u001b[0m\n\u001b[0;32m      8\u001b[0m \u001b[0msuccessProb\u001b[0m \u001b[1;33m=\u001b[0m \u001b[0mGrover\u001b[0m\u001b[1;33m.\u001b[0m\u001b[0mSuccessProbability_SAT\u001b[0m\u001b[1;33m.\u001b[0m\u001b[0msimulate\u001b[0m\u001b[1;33m(\u001b[0m\u001b[0mN\u001b[0m \u001b[1;33m=\u001b[0m \u001b[0mvariableCount\u001b[0m\u001b[1;33m,\u001b[0m \u001b[0minstance\u001b[0m \u001b[1;33m=\u001b[0m \u001b[0mproblem\u001b[0m\u001b[1;33m,\u001b[0m \u001b[0miter\u001b[0m \u001b[1;33m=\u001b[0m \u001b[1;36m1\u001b[0m\u001b[1;33m)\u001b[0m\u001b[1;33m\u001b[0m\u001b[1;33m\u001b[0m\u001b[0m\n\u001b[1;32m----> 9\u001b[1;33m \u001b[0mprint\u001b[0m\u001b[1;33m(\u001b[0m\u001b[1;34m\"The algorithm succeeds with \"\u001b[0m \u001b[1;33m+\u001b[0m \u001b[0mstr\u001b[0m\u001b[1;33m(\u001b[0m\u001b[0msuccessProb\u001b[0m \u001b[1;33m*\u001b[0m \u001b[1;36m100\u001b[0m\u001b[1;33m)\u001b[0m \u001b[1;33m+\u001b[0m \u001b[1;34m\"% probability\"\u001b[0m\u001b[1;33m)\u001b[0m\u001b[1;33m\u001b[0m\u001b[1;33m\u001b[0m\u001b[0m\n\u001b[0m",
      "\u001b[1;31mTypeError\u001b[0m: unsupported operand type(s) for *: 'NoneType' and 'int'"
     ]
    }
   ],
   "source": [
    "# The SAT instance we want to solve\n",
    "problem = [[(0, True), (1, True)], [(0, False), (1, False)], [(1, True), (2, True)], [(1, False), (2, False)]]\n",
    "variableCount = 3\n",
    "\n",
    "print(\"Solving SAT problem \" + Grover.SATInstanceAsString.simulate(instance = problem) + \"...\")\n",
    "\n",
    "# Simulate the algorithm and print the results\n",
    "successProb = Grover.SuccessProbability_SAT.simulate(N = variableCount, instance = problem, iter = 1)\n",
    "print(\"The algorithm succeeds with \" + str(successProb * 100) + \"% probability\")"
   ]
  },
  {
   "cell_type": "markdown",
   "metadata": {},
   "source": [
    "Now that we have the tools for running Grover's search algorithm from Python and calculating its success probability, \n",
    "let's use them to collect and plot some information about the behavior of the algorithm's success probability."
   ]
  },
  {
   "cell_type": "markdown",
   "metadata": {},
   "source": [
    "## Exploring success probability"
   ]
  },
  {
   "cell_type": "markdown",
   "metadata": {},
   "source": [
    "Let's start by considering a larger problem instance with exactly 1 solution and exploring how the success probability of the algorithm depends on the number of Grover iterations done.\n",
    "\n",
    "> For the sake of speeding up the plotting we will use hardcoded oracles which implement functions with a given number of solutions instead of a proper SAT-solving oracles. The behaviors we will be exploring do not depend on the exact problem solved by the oracle!"
   ]
  },
  {
   "cell_type": "code",
   "execution_count": 6,
   "metadata": {
    "scrolled": true
   },
   "outputs": [
    {
     "name": "stderr",
     "output_type": "stream",
     "text": [
      "Could not load file or assembly 'Microsoft.Quantum.Standard, Version=0.11.2004.2825, Culture=neutral, PublicKeyToken=40866b40fd95c7f5'. The system cannot find the file specified.\r\n",
      "Could not load file or assembly 'Microsoft.Quantum.Standard, Version=0.11.2004.2825, Culture=neutral, PublicKeyToken=40866b40fd95c7f5'. The system cannot find the file specified.\r\n",
      "Could not load file or assembly 'Microsoft.Quantum.Standard, Version=0.11.2004.2825, Culture=neutral, PublicKeyToken=40866b40fd95c7f5'. The system cannot find the file specified.\r\n",
      "Could not load file or assembly 'Microsoft.Quantum.Standard, Version=0.11.2004.2825, Culture=neutral, PublicKeyToken=40866b40fd95c7f5'. The system cannot find the file specified.\r\n",
      "Could not load file or assembly 'Microsoft.Quantum.Standard, Version=0.11.2004.2825, Culture=neutral, PublicKeyToken=40866b40fd95c7f5'. The system cannot find the file specified.\r\n",
      "Could not load file or assembly 'Microsoft.Quantum.Standard, Version=0.11.2004.2825, Culture=neutral, PublicKeyToken=40866b40fd95c7f5'. The system cannot find the file specified.\r\n",
      "Could not load file or assembly 'Microsoft.Quantum.Standard, Version=0.11.2004.2825, Culture=neutral, PublicKeyToken=40866b40fd95c7f5'. The system cannot find the file specified.\r\n",
      "Could not load file or assembly 'Microsoft.Quantum.Standard, Version=0.11.2004.2825, Culture=neutral, PublicKeyToken=40866b40fd95c7f5'. The system cannot find the file specified.\r\n",
      "Could not load file or assembly 'Microsoft.Quantum.Standard, Version=0.11.2004.2825, Culture=neutral, PublicKeyToken=40866b40fd95c7f5'. The system cannot find the file specified.\r\n",
      "Could not load file or assembly 'Microsoft.Quantum.Standard, Version=0.11.2004.2825, Culture=neutral, PublicKeyToken=40866b40fd95c7f5'. The system cannot find the file specified.\r\n",
      "Could not load file or assembly 'Microsoft.Quantum.Standard, Version=0.11.2004.2825, Culture=neutral, PublicKeyToken=40866b40fd95c7f5'. The system cannot find the file specified.\r\n",
      "Could not load file or assembly 'Microsoft.Quantum.Standard, Version=0.11.2004.2825, Culture=neutral, PublicKeyToken=40866b40fd95c7f5'. The system cannot find the file specified.\r\n",
      "Could not load file or assembly 'Microsoft.Quantum.Standard, Version=0.11.2004.2825, Culture=neutral, PublicKeyToken=40866b40fd95c7f5'. The system cannot find the file specified.\r\n",
      "Could not load file or assembly 'Microsoft.Quantum.Standard, Version=0.11.2004.2825, Culture=neutral, PublicKeyToken=40866b40fd95c7f5'. The system cannot find the file specified.\r\n",
      "Could not load file or assembly 'Microsoft.Quantum.Standard, Version=0.11.2004.2825, Culture=neutral, PublicKeyToken=40866b40fd95c7f5'. The system cannot find the file specified.\r\n",
      "Could not load file or assembly 'Microsoft.Quantum.Standard, Version=0.11.2004.2825, Culture=neutral, PublicKeyToken=40866b40fd95c7f5'. The system cannot find the file specified.\r\n",
      "Could not load file or assembly 'Microsoft.Quantum.Standard, Version=0.11.2004.2825, Culture=neutral, PublicKeyToken=40866b40fd95c7f5'. The system cannot find the file specified.\r\n",
      "Could not load file or assembly 'Microsoft.Quantum.Standard, Version=0.11.2004.2825, Culture=neutral, PublicKeyToken=40866b40fd95c7f5'. The system cannot find the file specified.\r\n",
      "Could not load file or assembly 'Microsoft.Quantum.Standard, Version=0.11.2004.2825, Culture=neutral, PublicKeyToken=40866b40fd95c7f5'. The system cannot find the file specified.\r\n",
      "Could not load file or assembly 'Microsoft.Quantum.Standard, Version=0.11.2004.2825, Culture=neutral, PublicKeyToken=40866b40fd95c7f5'. The system cannot find the file specified.\r\n"
     ]
    },
    {
     "data": {
      "image/png": "[encoded data removed]",
      "text/plain": [
       "<Figure size 432x288 with 1 Axes>"
      ]
     },
     "metadata": {
      "needs_background": "light"
     },
     "output_type": "display_data"
    }
   ],
   "source": [
    "x_points = range(20)\n",
    "y_points = [-1.0] * 20\n",
    "\n",
    "for iter in x_points:\n",
    "    y_points[iter] = Grover.SuccessProbability_Sol.simulate(nQubit = 5, nSol = 1, iter = iter)\n",
    "    \n",
    "# Plot the data\n",
    "fig = pyplot.figure()\n",
    "ax = fig.add_subplot(111)\n",
    "p = ax.plot(x_points, y_points, 'b')\n",
    "ax.set_xlabel('Number of iterations')\n",
    "ax.set_ylabel('Success probability')\n",
    "ax.set_title('M = 1 solution out of N = 2⁵ possibilities')\n",
    "ax.set_xticks(range(20))\n",
    "fig.show()"
   ]
  },
  {
   "cell_type": "markdown",
   "metadata": {},
   "source": [
    "We can observe a very important property of the algorithm on this plot: **more iterations does not mean better!**  \n",
    "The success probability increases until it hits a maximum of 1.0 at 4 iterations, after that it decreases again until a minimum of 0.0 at 8 iterations, and after that the pattern repeats. "
   ]
  },
  {
   "cell_type": "markdown",
   "metadata": {},
   "source": [
    "## How to maximize success probability?"
   ]
  },
  {
   "cell_type": "markdown",
   "metadata": {},
   "source": [
    "Let's take a look at more data: how does success probability change as the number of iterations increases depending on the number of solutions the problem has.\n",
    "\n",
    "> Note that the execution of this cell can take several minutes."
   ]
  },
  {
   "cell_type": "code",
   "execution_count": 7,
   "metadata": {
    "scrolled": true
   },
   "outputs": [
    {
     "name": "stderr",
     "output_type": "stream",
     "text": [
      "Could not load file or assembly 'Microsoft.Quantum.Standard, Version=0.11.2004.2825, Culture=neutral, PublicKeyToken=40866b40fd95c7f5'. The system cannot find the file specified.\n",
      "Could not load file or assembly 'Microsoft.Quantum.Standard, Version=0.11.2004.2825, Culture=neutral, PublicKeyToken=40866b40fd95c7f5'. The system cannot find the file specified.\n",
      "Could not load file or assembly 'Microsoft.Quantum.Standard, Version=0.11.2004.2825, Culture=neutral, PublicKeyToken=40866b40fd95c7f5'. The system cannot find the file specified.\n",
      "Could not load file or assembly 'Microsoft.Quantum.Standard, Version=0.11.2004.2825, Culture=neutral, PublicKeyToken=40866b40fd95c7f5'. The system cannot find the file specified.\n",
      "Could not load file or assembly 'Microsoft.Quantum.Standard, Version=0.11.2004.2825, Culture=neutral, PublicKeyToken=40866b40fd95c7f5'. The system cannot find the file specified.\n",
      "Could not load file or assembly 'Microsoft.Quantum.Standard, Version=0.11.2004.2825, Culture=neutral, PublicKeyToken=40866b40fd95c7f5'. The system cannot find the file specified.\n",
      "Could not load file or assembly 'Microsoft.Quantum.Standard, Version=0.11.2004.2825, Culture=neutral, PublicKeyToken=40866b40fd95c7f5'. The system cannot find the file specified.\n",
      "Could not load file or assembly 'Microsoft.Quantum.Standard, Version=0.11.2004.2825, Culture=neutral, PublicKeyToken=40866b40fd95c7f5'. The system cannot find the file specified.\n",
      "Could not load file or assembly 'Microsoft.Quantum.Standard, Version=0.11.2004.2825, Culture=neutral, PublicKeyToken=40866b40fd95c7f5'. The system cannot find the file specified.\n",
      "Could not load file or assembly 'Microsoft.Quantum.Standard, Version=0.11.2004.2825, Culture=neutral, PublicKeyToken=40866b40fd95c7f5'. The system cannot find the file specified.\n",
      "Could not load file or assembly 'Microsoft.Quantum.Standard, Version=0.11.2004.2825, Culture=neutral, PublicKeyToken=40866b40fd95c7f5'. The system cannot find the file specified.\n",
      "Could not load file or assembly 'Microsoft.Quantum.Standard, Version=0.11.2004.2825, Culture=neutral, PublicKeyToken=40866b40fd95c7f5'. The system cannot find the file specified.\n",
      "Could not load file or assembly 'Microsoft.Quantum.Standard, Version=0.11.2004.2825, Culture=neutral, PublicKeyToken=40866b40fd95c7f5'. The system cannot find the file specified.\n",
      "Could not load file or assembly 'Microsoft.Quantum.Standard, Version=0.11.2004.2825, Culture=neutral, PublicKeyToken=40866b40fd95c7f5'. The system cannot find the file specified.\n",
      "Could not load file or assembly 'Microsoft.Quantum.Standard, Version=0.11.2004.2825, Culture=neutral, PublicKeyToken=40866b40fd95c7f5'. The system cannot find the file specified.\n",
      "Could not load file or assembly 'Microsoft.Quantum.Standard, Version=0.11.2004.2825, Culture=neutral, PublicKeyToken=40866b40fd95c7f5'. The system cannot find the file specified.\n",
      "Could not load file or assembly 'Microsoft.Quantum.Standard, Version=0.11.2004.2825, Culture=neutral, PublicKeyToken=40866b40fd95c7f5'. The system cannot find the file specified.\n",
      "Could not load file or assembly 'Microsoft.Quantum.Standard, Version=0.11.2004.2825, Culture=neutral, PublicKeyToken=40866b40fd95c7f5'. The system cannot find the file specified.\n",
      "Could not load file or assembly 'Microsoft.Quantum.Standard, Version=0.11.2004.2825, Culture=neutral, PublicKeyToken=40866b40fd95c7f5'. The system cannot find the file specified.\n",
      "Could not load file or assembly 'Microsoft.Quantum.Standard, Version=0.11.2004.2825, Culture=neutral, PublicKeyToken=40866b40fd95c7f5'. The system cannot find the file specified.\n",
      "Could not load file or assembly 'Microsoft.Quantum.Standard, Version=0.11.2004.2825, Culture=neutral, PublicKeyToken=40866b40fd95c7f5'. The system cannot find the file specified.\n",
      "Could not load file or assembly 'Microsoft.Quantum.Standard, Version=0.11.2004.2825, Culture=neutral, PublicKeyToken=40866b40fd95c7f5'. The system cannot find the file specified.\n",
      "Could not load file or assembly 'Microsoft.Quantum.Standard, Version=0.11.2004.2825, Culture=neutral, PublicKeyToken=40866b40fd95c7f5'. The system cannot find the file specified.\n",
      "Could not load file or assembly 'Microsoft.Quantum.Standard, Version=0.11.2004.2825, Culture=neutral, PublicKeyToken=40866b40fd95c7f5'. The system cannot find the file specified.\n",
      "Could not load file or assembly 'Microsoft.Quantum.Standard, Version=0.11.2004.2825, Culture=neutral, PublicKeyToken=40866b40fd95c7f5'. The system cannot find the file specified.\n",
      "Could not load file or assembly 'Microsoft.Quantum.Standard, Version=0.11.2004.2825, Culture=neutral, PublicKeyToken=40866b40fd95c7f5'. The system cannot find the file specified.\n",
      "Could not load file or assembly 'Microsoft.Quantum.Standard, Version=0.11.2004.2825, Culture=neutral, PublicKeyToken=40866b40fd95c7f5'. The system cannot find the file specified.\n",
      "Could not load file or assembly 'Microsoft.Quantum.Standard, Version=0.11.2004.2825, Culture=neutral, PublicKeyToken=40866b40fd95c7f5'. The system cannot find the file specified.\n",
      "Could not load file or assembly 'Microsoft.Quantum.Standard, Version=0.11.2004.2825, Culture=neutral, PublicKeyToken=40866b40fd95c7f5'. The system cannot find the file specified.\n",
      "Could not load file or assembly 'Microsoft.Quantum.Standard, Version=0.11.2004.2825, Culture=neutral, PublicKeyToken=40866b40fd95c7f5'. The system cannot find the file specified.\n",
      "Could not load file or assembly 'Microsoft.Quantum.Standard, Version=0.11.2004.2825, Culture=neutral, PublicKeyToken=40866b40fd95c7f5'. The system cannot find the file specified.\n",
      "Could not load file or assembly 'Microsoft.Quantum.Standard, Version=0.11.2004.2825, Culture=neutral, PublicKeyToken=40866b40fd95c7f5'. The system cannot find the file specified.\n",
      "Could not load file or assembly 'Microsoft.Quantum.Standard, Version=0.11.2004.2825, Culture=neutral, PublicKeyToken=40866b40fd95c7f5'. The system cannot find the file specified.\n",
      "Could not load file or assembly 'Microsoft.Quantum.Standard, Version=0.11.2004.2825, Culture=neutral, PublicKeyToken=40866b40fd95c7f5'. The system cannot find the file specified.\n",
      "Could not load file or assembly 'Microsoft.Quantum.Standard, Version=0.11.2004.2825, Culture=neutral, PublicKeyToken=40866b40fd95c7f5'. The system cannot find the file specified.\n",
      "Could not load file or assembly 'Microsoft.Quantum.Standard, Version=0.11.2004.2825, Culture=neutral, PublicKeyToken=40866b40fd95c7f5'. The system cannot find the file specified.\n",
      "Could not load file or assembly 'Microsoft.Quantum.Standard, Version=0.11.2004.2825, Culture=neutral, PublicKeyToken=40866b40fd95c7f5'. The system cannot find the file specified.\n",
      "Could not load file or assembly 'Microsoft.Quantum.Standard, Version=0.11.2004.2825, Culture=neutral, PublicKeyToken=40866b40fd95c7f5'. The system cannot find the file specified.\n",
      "Could not load file or assembly 'Microsoft.Quantum.Standard, Version=0.11.2004.2825, Culture=neutral, PublicKeyToken=40866b40fd95c7f5'. The system cannot find the file specified.\n",
      "Could not load file or assembly 'Microsoft.Quantum.Standard, Version=0.11.2004.2825, Culture=neutral, PublicKeyToken=40866b40fd95c7f5'. The system cannot find the file specified.\n",
      "Could not load file or assembly 'Microsoft.Quantum.Standard, Version=0.11.2004.2825, Culture=neutral, PublicKeyToken=40866b40fd95c7f5'. The system cannot find the file specified.\n",
      "Could not load file or assembly 'Microsoft.Quantum.Standard, Version=0.11.2004.2825, Culture=neutral, PublicKeyToken=40866b40fd95c7f5'. The system cannot find the file specified.\n",
      "Could not load file or assembly 'Microsoft.Quantum.Standard, Version=0.11.2004.2825, Culture=neutral, PublicKeyToken=40866b40fd95c7f5'. The system cannot find the file specified.\n",
      "Could not load file or assembly 'Microsoft.Quantum.Standard, Version=0.11.2004.2825, Culture=neutral, PublicKeyToken=40866b40fd95c7f5'. The system cannot find the file specified.\n",
      "Could not load file or assembly 'Microsoft.Quantum.Standard, Version=0.11.2004.2825, Culture=neutral, PublicKeyToken=40866b40fd95c7f5'. The system cannot find the file specified.\n",
      "Could not load file or assembly 'Microsoft.Quantum.Standard, Version=0.11.2004.2825, Culture=neutral, PublicKeyToken=40866b40fd95c7f5'. The system cannot find the file specified.\n",
      "Could not load file or assembly 'Microsoft.Quantum.Standard, Version=0.11.2004.2825, Culture=neutral, PublicKeyToken=40866b40fd95c7f5'. The system cannot find the file specified.\n",
      "Could not load file or assembly 'Microsoft.Quantum.Standard, Version=0.11.2004.2825, Culture=neutral, PublicKeyToken=40866b40fd95c7f5'. The system cannot find the file specified.\n",
      "Could not load file or assembly 'Microsoft.Quantum.Standard, Version=0.11.2004.2825, Culture=neutral, PublicKeyToken=40866b40fd95c7f5'. The system cannot find the file specified.\n",
      "Could not load file or assembly 'Microsoft.Quantum.Standard, Version=0.11.2004.2825, Culture=neutral, PublicKeyToken=40866b40fd95c7f5'. The system cannot find the file specified.\n",
      "Could not load file or assembly 'Microsoft.Quantum.Standard, Version=0.11.2004.2825, Culture=neutral, PublicKeyToken=40866b40fd95c7f5'. The system cannot find the file specified.\n",
      "Could not load file or assembly 'Microsoft.Quantum.Standard, Version=0.11.2004.2825, Culture=neutral, PublicKeyToken=40866b40fd95c7f5'. The system cannot find the file specified.\n",
      "Could not load file or assembly 'Microsoft.Quantum.Standard, Version=0.11.2004.2825, Culture=neutral, PublicKeyToken=40866b40fd95c7f5'. The system cannot find the file specified.\n",
      "Could not load file or assembly 'Microsoft.Quantum.Standard, Version=0.11.2004.2825, Culture=neutral, PublicKeyToken=40866b40fd95c7f5'. The system cannot find the file specified.\n",
      "Could not load file or assembly 'Microsoft.Quantum.Standard, Version=0.11.2004.2825, Culture=neutral, PublicKeyToken=40866b40fd95c7f5'. The system cannot find the file specified.\n",
      "Could not load file or assembly 'Microsoft.Quantum.Standard, Version=0.11.2004.2825, Culture=neutral, PublicKeyToken=40866b40fd95c7f5'. The system cannot find the file specified.\n",
      "Could not load file or assembly 'Microsoft.Quantum.Standard, Version=0.11.2004.2825, Culture=neutral, PublicKeyToken=40866b40fd95c7f5'. The system cannot find the file specified.\n",
      "Could not load file or assembly 'Microsoft.Quantum.Standard, Version=0.11.2004.2825, Culture=neutral, PublicKeyToken=40866b40fd95c7f5'. The system cannot find the file specified.\n",
      "Could not load file or assembly 'Microsoft.Quantum.Standard, Version=0.11.2004.2825, Culture=neutral, PublicKeyToken=40866b40fd95c7f5'. The system cannot find the file specified.\n"
     ]
    },
    {
     "name": "stderr",
     "output_type": "stream",
     "text": [
      "Could not load file or assembly 'Microsoft.Quantum.Standard, Version=0.11.2004.2825, Culture=neutral, PublicKeyToken=40866b40fd95c7f5'. The system cannot find the file specified.\r\n",
      "Could not load file or assembly 'Microsoft.Quantum.Standard, Version=0.11.2004.2825, Culture=neutral, PublicKeyToken=40866b40fd95c7f5'. The system cannot find the file specified.\r\n",
      "Could not load file or assembly 'Microsoft.Quantum.Standard, Version=0.11.2004.2825, Culture=neutral, PublicKeyToken=40866b40fd95c7f5'. The system cannot find the file specified.\r\n",
      "Could not load file or assembly 'Microsoft.Quantum.Standard, Version=0.11.2004.2825, Culture=neutral, PublicKeyToken=40866b40fd95c7f5'. The system cannot find the file specified.\r\n",
      "Could not load file or assembly 'Microsoft.Quantum.Standard, Version=0.11.2004.2825, Culture=neutral, PublicKeyToken=40866b40fd95c7f5'. The system cannot find the file specified.\r\n",
      "Could not load file or assembly 'Microsoft.Quantum.Standard, Version=0.11.2004.2825, Culture=neutral, PublicKeyToken=40866b40fd95c7f5'. The system cannot find the file specified.\r\n",
      "Could not load file or assembly 'Microsoft.Quantum.Standard, Version=0.11.2004.2825, Culture=neutral, PublicKeyToken=40866b40fd95c7f5'. The system cannot find the file specified.\r\n",
      "Could not load file or assembly 'Microsoft.Quantum.Standard, Version=0.11.2004.2825, Culture=neutral, PublicKeyToken=40866b40fd95c7f5'. The system cannot find the file specified.\r\n",
      "Could not load file or assembly 'Microsoft.Quantum.Standard, Version=0.11.2004.2825, Culture=neutral, PublicKeyToken=40866b40fd95c7f5'. The system cannot find the file specified.\r\n",
      "Could not load file or assembly 'Microsoft.Quantum.Standard, Version=0.11.2004.2825, Culture=neutral, PublicKeyToken=40866b40fd95c7f5'. The system cannot find the file specified.\r\n",
      "Could not load file or assembly 'Microsoft.Quantum.Standard, Version=0.11.2004.2825, Culture=neutral, PublicKeyToken=40866b40fd95c7f5'. The system cannot find the file specified.\r\n",
      "Could not load file or assembly 'Microsoft.Quantum.Standard, Version=0.11.2004.2825, Culture=neutral, PublicKeyToken=40866b40fd95c7f5'. The system cannot find the file specified.\r\n",
      "Could not load file or assembly 'Microsoft.Quantum.Standard, Version=0.11.2004.2825, Culture=neutral, PublicKeyToken=40866b40fd95c7f5'. The system cannot find the file specified.\r\n",
      "Could not load file or assembly 'Microsoft.Quantum.Standard, Version=0.11.2004.2825, Culture=neutral, PublicKeyToken=40866b40fd95c7f5'. The system cannot find the file specified.\r\n",
      "Could not load file or assembly 'Microsoft.Quantum.Standard, Version=0.11.2004.2825, Culture=neutral, PublicKeyToken=40866b40fd95c7f5'. The system cannot find the file specified.\r\n",
      "Could not load file or assembly 'Microsoft.Quantum.Standard, Version=0.11.2004.2825, Culture=neutral, PublicKeyToken=40866b40fd95c7f5'. The system cannot find the file specified.\r\n",
      "Could not load file or assembly 'Microsoft.Quantum.Standard, Version=0.11.2004.2825, Culture=neutral, PublicKeyToken=40866b40fd95c7f5'. The system cannot find the file specified.\r\n",
      "Could not load file or assembly 'Microsoft.Quantum.Standard, Version=0.11.2004.2825, Culture=neutral, PublicKeyToken=40866b40fd95c7f5'. The system cannot find the file specified.\r\n",
      "Could not load file or assembly 'Microsoft.Quantum.Standard, Version=0.11.2004.2825, Culture=neutral, PublicKeyToken=40866b40fd95c7f5'. The system cannot find the file specified.\r\n",
      "Could not load file or assembly 'Microsoft.Quantum.Standard, Version=0.11.2004.2825, Culture=neutral, PublicKeyToken=40866b40fd95c7f5'. The system cannot find the file specified.\r\n",
      "Could not load file or assembly 'Microsoft.Quantum.Standard, Version=0.11.2004.2825, Culture=neutral, PublicKeyToken=40866b40fd95c7f5'. The system cannot find the file specified.\r\n"
     ]
    }
   ],
   "source": [
    "x_points = range(20)\n",
    "y_points = []\n",
    "\n",
    "for sol in range(4):\n",
    "    yp = [-1.0] * 20\n",
    "    for iter in x_points:\n",
    "        yp[iter] = Grover.SuccessProbability_Sol.simulate(nQubit = 5, nSol = sol + 2, iter = iter)\n",
    "    y_points.append(yp)"
   ]
  },
  {
   "cell_type": "code",
   "execution_count": 8,
   "metadata": {
    "scrolled": false
   },
   "outputs": [
    {
     "data": {
      "image/png": "[encoded data removed]",
      "text/plain": [
       "<Figure size 1152x720 with 4 Axes>"
      ]
     },
     "metadata": {
      "needs_background": "light"
     },
     "output_type": "display_data"
    }
   ],
   "source": [
    "# Plot the data\n",
    "fig, axes = pyplot.subplots(2, 2, figsize=(16, 10))\n",
    "for sol in range(4):\n",
    "    ax = axes.flatten()[sol]\n",
    "    ax.plot(x_points, y_points[sol])\n",
    "    ax.set_xlabel('Number of iterations')\n",
    "    ax.set_ylabel('Success probability')\n",
    "    ax.set_title('M = ' + str(sol+2) + ' solutions')\n",
    "    ax.set_xticks(range(20))\n",
    "fig.show()"
   ]
  },
  {
   "cell_type": "markdown",
   "metadata": {},
   "source": [
    "You can see that the pattern remains the same on each plot: the success probability increases to nearly 1.0 at a certain number of iterations, after that it decreases to nearly 0.0 at approximately double that number of iterations, and after that the pattern repeats. \n",
    "\n",
    "However, the number of iterations at which the maximum success probability is achieved is different for different problems: for problems with 1 solution it was 4 iterations, for 2 solutions - 3 iterations, for 3 and 4 solutions - 2 iterations, and for 5 solutions - 1 iteration. The formula for the optimal number of iterations is \n",
    "\n",
    "$$R \\approx \\frac{\\pi}{4} \\sqrt{\\frac{N}{M}}$$\n",
    "\n",
    "where $N$ is the size of the search space (in our case we have 5 binary variables, so $N = 2^5 = 32$), $M$ is the number of solutions to the problem (in our case between 1 and 5).\n",
    "\n",
    "This formula shows the reason Grover's search is so interesting - the classical solution to the search problem requires $O(N)$ evaluations of the function, and Grover's search algorithm allows to do this in $O(\\sqrt{N})$ evaluations, providing a quadratic speedup."
   ]
  },
  {
   "cell_type": "markdown",
   "metadata": {},
   "source": [
    "### But I don't know how many solutions my problem has!"
   ]
  },
  {
   "cell_type": "markdown",
   "metadata": {},
   "source": [
    "Indeed, in practical applications you don't usually know how many solutions your problem has before you start solving it. \n",
    "In this case you can pick the number of iterations as a random number between 1 and $\\frac{\\pi}{4} \\sqrt{N}$, and if the search did not yield the result on the first run, re-run it with a different number of iterations."
   ]
  },
  {
   "cell_type": "markdown",
   "metadata": {},
   "source": [
    "# What's Next?\n",
    "\n",
    "We hope you've enjoyed this tutorial and learned a lot from it! If you're looking to learn more about quantum computing and Q#, here are some suggestions:\n",
    "\n",
    "* The [Quantum Katas](https://github.com/microsoft/QuantumKatas/) are sets of programming exercises on quantum computing that can be solved using Q#. They cover a variety of topics, from the basics like the concepts of superposition and measurements to more interesting algorithms like Grover's search.\n",
    "* In particular, [GroverSearch kata](https://github.com/microsoft/QuantumKatas/tree/master/GroversAlgorithm) offers you exercises on implementing simple quantum oracles and a step-by-step implementation of Grover search algorithm (all the internals that were hidden under the hood of `GroversAlgorithm_Loop` operation in this tutorial!).\n",
    "* [SolveSATWithGrover kata](https://github.com/microsoft/QuantumKatas/tree/master/SolveSATWithGrover) teaches you how to implement quantum oracles for SAT problems, starting with the simple building blocks like implementing AND and OR operations in a quantum way.\n",
    "* [GraphColoring kata](https://github.com/microsoft/QuantumKatas/tree/master/GraphColoring) is another interesting kata that teaches you how to implement quantum oracles for graph coloring problems."
   ]
  },
  {
   "cell_type": "code",
   "execution_count": null,
   "metadata": {},
   "outputs": [],
   "source": []
  },
  {
   "cell_type": "code",
   "execution_count": null,
   "metadata": {},
   "outputs": [],
   "source": []
  },
  {
   "cell_type": "code",
   "execution_count": null,
   "metadata": {},
   "outputs": [],
   "source": []
  }
 ],
 "metadata": {
  "kernelspec": {
   "display_name": "Python 3",
   "language": "python",
   "name": "python3"
  },
  "language_info": {
   "codemirror_mode": {
    "name": "ipython",
    "version": 3
   },
   "file_extension": ".py",
   "mimetype": "text/x-python",
   "name": "python",
   "nbconvert_exporter": "python",
   "pygments_lexer": "ipython3",
   "version": "3.7.9"
  }
 },
 "nbformat": 4,
 "nbformat_minor": 2
}
